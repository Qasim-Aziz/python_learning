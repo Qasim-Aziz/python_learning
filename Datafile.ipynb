{
 "cells": [
  {
   "cell_type": "code",
   "execution_count": 7,
   "metadata": {},
   "outputs": [
    {
     "name": "stdout",
     "output_type": "stream",
     "text": [
      "this is file\n"
     ]
    }
   ],
   "source": [
    "with open(\"testdatafile.txt\", \"r\") as file:\n",
    "    content=file.read()\n",
    "print(content)"
   ]
  },
  {
   "cell_type": "markdown",
   "metadata": {},
   "source": [
    "# reading mode, writing mode append mode"
   ]
  },
  {
   "cell_type": "code",
   "execution_count": 9,
   "metadata": {},
   "outputs": [],
   "source": [
    "with open(\"testdatafile.txt\", \"w\") as file:\n",
    "    file.write(\"this new text from python wirte\")"
   ]
  },
  {
   "cell_type": "code",
   "execution_count": 10,
   "metadata": {},
   "outputs": [],
   "source": [
    "with open(\"notexistfile.txt\", \"w\") as file:\n",
    "    file.write(\"make new file and write\")"
   ]
  },
  {
   "cell_type": "code",
   "execution_count": 11,
   "metadata": {},
   "outputs": [],
   "source": [
    "with open(\"testdatafile.txt\", \"a\") as file:\n",
    "    file.write(\"this txt willl be append\")"
   ]
  },
  {
   "cell_type": "markdown",
   "metadata": {},
   "source": [
    "# r+ mode, w+ mode"
   ]
  },
  {
   "cell_type": "code",
   "execution_count": 13,
   "metadata": {},
   "outputs": [
    {
     "name": "stdout",
     "output_type": "stream",
     "text": [
      "this is file of w+\n"
     ]
    }
   ],
   "source": [
    "with open(\"mynewfile.txt\", \"w+\") as file:\n",
    "    file.write(\"this is file of w+\")\n",
    "    file.seek(0)\n",
    "    print(file.read())"
   ]
  },
  {
   "cell_type": "code",
   "execution_count": 16,
   "metadata": {},
   "outputs": [
    {
     "name": "stdout",
     "output_type": "stream",
     "text": [
      "this is file of w+this is file of w+this is file of w+this is file of w+\n"
     ]
    }
   ],
   "source": [
    "with open(\"mynewfile.txt\", \"r+\") as file:\n",
    "    file.write(\"this is file of w+\")\n",
    "    file.write(\"this is file of w+\")\n",
    "    file.write(\"this is file of w+\")\n",
    "    file.write(\"this is file of w+\")\n",
    "    file.seek(0)\n",
    "    print(file.read())"
   ]
  },
  {
   "cell_type": "code",
   "execution_count": null,
   "metadata": {},
   "outputs": [],
   "source": []
  }
 ],
 "metadata": {
  "kernelspec": {
   "display_name": "Python 3",
   "language": "python",
   "name": "python3"
  },
  "language_info": {
   "codemirror_mode": {
    "name": "ipython",
    "version": 3
   },
   "file_extension": ".py",
   "mimetype": "text/x-python",
   "name": "python",
   "nbconvert_exporter": "python",
   "pygments_lexer": "ipython3",
   "version": "3.7.3"
  }
 },
 "nbformat": 4,
 "nbformat_minor": 2
}
