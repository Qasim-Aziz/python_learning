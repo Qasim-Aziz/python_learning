{
 "cells": [
  {
   "cell_type": "markdown",
   "metadata": {},
   "source": [
    "# while loops"
   ]
  },
  {
   "cell_type": "code",
   "execution_count": 2,
   "metadata": {},
   "outputs": [
    {
     "name": "stdout",
     "output_type": "stream",
     "text": [
      "0 this is while loop printing\n",
      "1 this is while loop printing\n",
      "2 this is while loop printing\n",
      "3 this is while loop printing\n",
      "4 this is while loop printing\n",
      "5 this is while loop printing\n",
      "6 this is while loop printing\n",
      "7 this is while loop printing\n",
      "8 this is while loop printing\n",
      "9 this is while loop printing\n",
      "10 this is while loop printing\n"
     ]
    }
   ],
   "source": [
    "a=0\n",
    "while a<=10:\n",
    "    print(a,\"this is while loop printing\")\n",
    "    a +=1"
   ]
  },
  {
   "cell_type": "code",
   "execution_count": 6,
   "metadata": {},
   "outputs": [
    {
     "name": "stdout",
     "output_type": "stream",
     "text": [
      "0 this is for loop\n",
      "1 this is for loop\n",
      "2 this is for loop\n",
      "3 this is for loop\n",
      "4 this is for loop\n",
      "5 this is for loop\n",
      "6 this is for loop\n",
      "7 this is for loop\n",
      "8 this is for loop\n",
      "9 this is for loop\n",
      "10 this is for loop\n"
     ]
    }
   ],
   "source": [
    "for num in range(0, 11):\n",
    "    print(num, \"this is for loop\")"
   ]
  },
  {
   "cell_type": "markdown",
   "metadata": {},
   "source": [
    "# setting a flage to terminate loop"
   ]
  },
  {
   "cell_type": "code",
   "execution_count": 10,
   "metadata": {},
   "outputs": [
    {
     "name": "stdout",
     "output_type": "stream",
     "text": [
      "enter your fav foods1\n",
      "enter your fav foods\n",
      "enter your fav foods2\n",
      "enter your fav foods3\n",
      "enter your fav foods35\n",
      "enter your fav foods335\n",
      "enter your fav foodsasdjklfh\n",
      "enter your fav foodsasdf\n",
      "enter your fav foodsads\n",
      "enter your fav foodsfad\n",
      "enter your fav foodsfq\n",
      "enter your fav foodsq\n",
      "enter your fav foodsQ\n"
     ]
    },
    {
     "data": {
      "text/plain": [
       "['1', '', '2', '3', '35', '335', 'asdjklfh', 'asdf', 'ads', 'fad', 'fq', 'q']"
      ]
     },
     "execution_count": 10,
     "metadata": {},
     "output_type": "execute_result"
    }
   ],
   "source": [
    "flag = True\n",
    "favfoods=[]\n",
    "while flag:\n",
    "    userinput= input(\"enter your fav foods\")\n",
    "    if userinput==\"Q\":\n",
    "        flag = False\n",
    "    else:\n",
    "        favfoods.append(userinput)\n",
    "favfoods"
   ]
  },
  {
   "cell_type": "code",
   "execution_count": null,
   "metadata": {},
   "outputs": [],
   "source": []
  }
 ],
 "metadata": {
  "kernelspec": {
   "display_name": "Python 3",
   "language": "python",
   "name": "python3"
  },
  "language_info": {
   "codemirror_mode": {
    "name": "ipython",
    "version": 3
   },
   "file_extension": ".py",
   "mimetype": "text/x-python",
   "name": "python",
   "nbconvert_exporter": "python",
   "pygments_lexer": "ipython3",
   "version": "3.7.3"
  }
 },
 "nbformat": 4,
 "nbformat_minor": 2
}
