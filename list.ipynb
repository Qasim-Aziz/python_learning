{
 "cells": [
  {
   "cell_type": "code",
   "execution_count": 1,
   "metadata": {},
   "outputs": [
    {
     "name": "stdout",
     "output_type": "stream",
     "text": [
      "['islamabad', 'lahore', 'karachi', 'quetta', 'peshawar']\n"
     ]
    }
   ],
   "source": [
    "cities = [\"islamabad\", \"lahore\",\"karachi\",\"quetta\",\"peshawar\"]\n",
    "print(cities)"
   ]
  },
  {
   "cell_type": "code",
   "execution_count": null,
   "metadata": {},
   "outputs": [],
   "source": []
  },
  {
   "cell_type": "code",
   "execution_count": 2,
   "metadata": {},
   "outputs": [
    {
     "data": {
      "text/plain": [
       "5"
      ]
     },
     "execution_count": 2,
     "metadata": {},
     "output_type": "execute_result"
    }
   ],
   "source": [
    "len(cities)"
   ]
  },
  {
   "cell_type": "code",
   "execution_count": 3,
   "metadata": {},
   "outputs": [],
   "source": [
    "# adding a member to the list\n",
    "cities.append(\"gujranwala\")"
   ]
  },
  {
   "cell_type": "code",
   "execution_count": 4,
   "metadata": {},
   "outputs": [
    {
     "data": {
      "text/plain": [
       "['islamabad', 'lahore', 'karachi', 'quetta', 'peshawar', 'gujranwala']"
      ]
     },
     "execution_count": 4,
     "metadata": {},
     "output_type": "execute_result"
    }
   ],
   "source": [
    "cities"
   ]
  },
  {
   "cell_type": "code",
   "execution_count": 5,
   "metadata": {},
   "outputs": [],
   "source": [
    "cities.append(\"jehlum\")"
   ]
  },
  {
   "cell_type": "code",
   "execution_count": 6,
   "metadata": {},
   "outputs": [
    {
     "data": {
      "text/plain": [
       "['islamabad',\n",
       " 'lahore',\n",
       " 'karachi',\n",
       " 'quetta',\n",
       " 'peshawar',\n",
       " 'gujranwala',\n",
       " 'jehlum']"
      ]
     },
     "execution_count": 6,
     "metadata": {},
     "output_type": "execute_result"
    }
   ],
   "source": [
    "cities"
   ]
  },
  {
   "cell_type": "code",
   "execution_count": 7,
   "metadata": {},
   "outputs": [
    {
     "data": {
      "text/plain": [
       "7"
      ]
     },
     "execution_count": 7,
     "metadata": {},
     "output_type": "execute_result"
    }
   ],
   "source": [
    "len(cities)"
   ]
  },
  {
   "cell_type": "code",
   "execution_count": 8,
   "metadata": {},
   "outputs": [],
   "source": [
    "cities.insert(3,\"deena\")"
   ]
  },
  {
   "cell_type": "code",
   "execution_count": 9,
   "metadata": {},
   "outputs": [
    {
     "data": {
      "text/plain": [
       "['islamabad',\n",
       " 'lahore',\n",
       " 'karachi',\n",
       " 'deena',\n",
       " 'quetta',\n",
       " 'peshawar',\n",
       " 'gujranwala',\n",
       " 'jehlum']"
      ]
     },
     "execution_count": 9,
     "metadata": {},
     "output_type": "execute_result"
    }
   ],
   "source": [
    "cities\n"
   ]
  },
  {
   "cell_type": "code",
   "execution_count": 10,
   "metadata": {},
   "outputs": [
    {
     "name": "stdout",
     "output_type": "stream",
     "text": [
      "\f",
      "\n"
     ]
    }
   ],
   "source": [
    "clear"
   ]
  },
  {
   "cell_type": "code",
   "execution_count": 11,
   "metadata": {},
   "outputs": [],
   "source": [
    "cities.extend([\"gujrat\",\"lalamusa\",\"mianwali\"])"
   ]
  },
  {
   "cell_type": "code",
   "execution_count": 12,
   "metadata": {},
   "outputs": [
    {
     "data": {
      "text/plain": [
       "['islamabad',\n",
       " 'lahore',\n",
       " 'karachi',\n",
       " 'deena',\n",
       " 'quetta',\n",
       " 'peshawar',\n",
       " 'gujranwala',\n",
       " 'jehlum',\n",
       " 'gujrat',\n",
       " 'lalamusa',\n",
       " 'mianwali']"
      ]
     },
     "execution_count": 12,
     "metadata": {},
     "output_type": "execute_result"
    }
   ],
   "source": [
    "cities"
   ]
  },
  {
   "cell_type": "code",
   "execution_count": 13,
   "metadata": {},
   "outputs": [
    {
     "data": {
      "text/plain": [
       "1"
      ]
     },
     "execution_count": 13,
     "metadata": {},
     "output_type": "execute_result"
    }
   ],
   "source": [
    "cities.count(\"gujrat\")"
   ]
  },
  {
   "cell_type": "code",
   "execution_count": 14,
   "metadata": {},
   "outputs": [
    {
     "data": {
      "text/plain": [
       "7"
      ]
     },
     "execution_count": 14,
     "metadata": {},
     "output_type": "execute_result"
    }
   ],
   "source": [
    "cities.index(\"jehlum\")"
   ]
  },
  {
   "cell_type": "code",
   "execution_count": 16,
   "metadata": {},
   "outputs": [],
   "source": [
    "cities.clear()"
   ]
  },
  {
   "cell_type": "code",
   "execution_count": 17,
   "metadata": {},
   "outputs": [
    {
     "data": {
      "text/plain": [
       "[]"
      ]
     },
     "execution_count": 17,
     "metadata": {},
     "output_type": "execute_result"
    }
   ],
   "source": [
    "cities"
   ]
  },
  {
   "cell_type": "code",
   "execution_count": 18,
   "metadata": {},
   "outputs": [],
   "source": [
    "cities =[\"islambad\",\"jehlum\",\"rawalpindi\"]"
   ]
  },
  {
   "cell_type": "code",
   "execution_count": 19,
   "metadata": {},
   "outputs": [
    {
     "ename": "TypeError",
     "evalue": "copy() takes no arguments (1 given)",
     "output_type": "error",
     "traceback": [
      "\u001b[1;31m---------------------------------------------------------------------------\u001b[0m",
      "\u001b[1;31mTypeError\u001b[0m                                 Traceback (most recent call last)",
      "\u001b[1;32m<ipython-input-19-21f57ab748e3>\u001b[0m in \u001b[0;36m<module>\u001b[1;34m\u001b[0m\n\u001b[1;32m----> 1\u001b[1;33m \u001b[0mcities\u001b[0m\u001b[1;33m.\u001b[0m\u001b[0mcopy\u001b[0m\u001b[1;33m(\u001b[0m\u001b[1;34m\"tomato\"\u001b[0m\u001b[1;33m)\u001b[0m\u001b[1;33m\u001b[0m\u001b[1;33m\u001b[0m\u001b[0m\n\u001b[0m",
      "\u001b[1;31mTypeError\u001b[0m: copy() takes no arguments (1 given)"
     ]
    }
   ],
   "source": [
    "cities.copy()"
   ]
  },
  {
   "cell_type": "code",
   "execution_count": 6,
   "metadata": {},
   "outputs": [
    {
     "name": "stdout",
     "output_type": "stream",
     "text": [
      "enter number7\n",
      "2 * 1 - 1\n",
      "2 * 2 - 0\n",
      "2 * 3 - -1\n",
      "2 * 4 - -2\n",
      "2 * 5 - -3\n",
      "2 * 6 - -4\n",
      "2 * 7 - -5\n",
      "2 * 8 - -6\n",
      "2 * 9 - -7\n",
      "2 * 10 - -8\n",
      "2 * 11 - -9\n",
      "2 * 12 - -10\n",
      "2 * 13 - -11\n",
      "2 * 14 - -12\n",
      "2 * 15 - -13\n",
      "2 * 16 - -14\n",
      "2 * 17 - -15\n",
      "2 * 18 - -16\n",
      "2 * 19 - -17\n",
      "3 * 1 - 2\n",
      "3 * 2 - 1\n",
      "3 * 3 - 0\n",
      "3 * 4 - -1\n",
      "3 * 5 - -2\n",
      "3 * 6 - -3\n",
      "3 * 7 - -4\n",
      "3 * 8 - -5\n",
      "3 * 9 - -6\n",
      "3 * 10 - -7\n",
      "3 * 11 - -8\n",
      "3 * 12 - -9\n",
      "3 * 13 - -10\n",
      "3 * 14 - -11\n",
      "3 * 15 - -12\n",
      "3 * 16 - -13\n",
      "3 * 17 - -14\n",
      "3 * 18 - -15\n",
      "3 * 19 - -16\n",
      "4 * 1 - 3\n",
      "4 * 2 - 2\n",
      "4 * 3 - 1\n",
      "4 * 4 - 0\n",
      "4 * 5 - -1\n",
      "4 * 6 - -2\n",
      "4 * 7 - -3\n",
      "4 * 8 - -4\n",
      "4 * 9 - -5\n",
      "4 * 10 - -6\n",
      "4 * 11 - -7\n",
      "4 * 12 - -8\n",
      "4 * 13 - -9\n",
      "4 * 14 - -10\n",
      "4 * 15 - -11\n",
      "4 * 16 - -12\n",
      "4 * 17 - -13\n",
      "4 * 18 - -14\n",
      "4 * 19 - -15\n",
      "5 * 1 - 4\n",
      "5 * 2 - 3\n",
      "5 * 3 - 2\n",
      "5 * 4 - 1\n",
      "5 * 5 - 0\n",
      "5 * 6 - -1\n",
      "5 * 7 - -2\n",
      "5 * 8 - -3\n",
      "5 * 9 - -4\n",
      "5 * 10 - -5\n",
      "5 * 11 - -6\n",
      "5 * 12 - -7\n",
      "5 * 13 - -8\n",
      "5 * 14 - -9\n",
      "5 * 15 - -10\n",
      "5 * 16 - -11\n",
      "5 * 17 - -12\n",
      "5 * 18 - -13\n",
      "5 * 19 - -14\n",
      "6 * 1 - 5\n",
      "6 * 2 - 4\n",
      "6 * 3 - 3\n",
      "6 * 4 - 2\n",
      "6 * 5 - 1\n",
      "6 * 6 - 0\n",
      "6 * 7 - -1\n",
      "6 * 8 - -2\n",
      "6 * 9 - -3\n",
      "6 * 10 - -4\n",
      "6 * 11 - -5\n",
      "6 * 12 - -6\n",
      "6 * 13 - -7\n",
      "6 * 14 - -8\n",
      "6 * 15 - -9\n",
      "6 * 16 - -10\n",
      "6 * 17 - -11\n",
      "6 * 18 - -12\n",
      "6 * 19 - -13\n",
      "7 * 1 - 6\n",
      "7 * 2 - 5\n",
      "7 * 3 - 4\n",
      "7 * 4 - 3\n",
      "7 * 5 - 2\n",
      "7 * 6 - 1\n",
      "7 * 7 - 0\n",
      "7 * 8 - -1\n",
      "7 * 9 - -2\n",
      "7 * 10 - -3\n",
      "7 * 11 - -4\n",
      "7 * 12 - -5\n",
      "7 * 13 - -6\n",
      "7 * 14 - -7\n",
      "7 * 15 - -8\n",
      "7 * 16 - -9\n",
      "7 * 17 - -10\n",
      "7 * 18 - -11\n",
      "7 * 19 - -12\n"
     ]
    }
   ],
   "source": [
    "ardamtable = int(input(\"enter number\"))\n",
    "\n",
    "for i in range(2,ardamtable+1):\n",
    "    for j in range(1,20):\n",
    "        print(f\"{i} * {j} - {i-j}\")"
   ]
  },
  {
   "cell_type": "code",
   "execution_count": null,
   "metadata": {},
   "outputs": [],
   "source": []
  },
  {
   "cell_type": "code",
   "execution_count": null,
   "metadata": {},
   "outputs": [],
   "source": []
  }
 ],
 "metadata": {
  "kernelspec": {
   "display_name": "Python 3",
   "language": "python",
   "name": "python3"
  },
  "language_info": {
   "codemirror_mode": {
    "name": "ipython",
    "version": 3
   },
   "file_extension": ".py",
   "mimetype": "text/x-python",
   "name": "python",
   "nbconvert_exporter": "python",
   "pygments_lexer": "ipython3",
   "version": "3.7.4"
  }
 },
 "nbformat": 4,
 "nbformat_minor": 2
}
